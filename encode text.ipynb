{
 "cells": [
  {
   "cell_type": "code",
   "execution_count": 1,
   "id": "8b11502a",
   "metadata": {},
   "outputs": [
    {
     "name": "stdout",
     "output_type": "stream",
     "text": [
      "`.n2 <h2 Zl6^.s h6abn, dl<`2mm<l [l6a<ls.h n<f^ b6m \\f<]e]b.6h mnB^2hnm nb.n nb2 \\2mn q.s n< f2.lh ]lsjn<al.jbs q.m h<n nbl<Bab ^ls 2kB.n6<hm \\Bn nbl<Bab g6m]b62`. \\2 a.p2 nb2g .h BhBmB.f .mm6ahg2hn: “\\6^2 . m2]l2n g2mm.a2 6h jf.6h m6abn. ?` s<Bl ]f.mmg.n2 ].h ^2]<^2 6n, nb2s 2.lh `l22 j6tt..” Eh2 mnB^2hn, [2p<la, n<<e nb6m `.l n<< m2l6<Bmfs. ?hmn2.^ <` . m6gjf2 W.2m.l ]6jb2l, b2 6hp2hn2^ qb.n b2 jl<B^fs ].ff2^ nb2 “d6h2.jjf2 \\.mb <` X2mn6hs.” ?n q<le2^ f6e2 nb6m: 2p2ls p<q2f q.m l2jf.]2^ q6nb . `lB6n, 2p2ls ]<hm<h.hn q6nb . l.h^<g hBg\\2l, .h^ 2p2ls mj.]2 q6nb nb2 m<Bh^ <` . ].n, ql6nn2h .m ]fB]e. kb2h b2 n2mn2^ 6n, 2p2h b2 ]<Bf^ h<n l2.^ 6n \\.]e. a2.hqb6f2, b6m `l62h^ 7h.b6n ^2]6^2^ n< 2h]<^2 b2l mn<ls .\\<Bn . ].n nb.n .]]6^2hn.ffs g6h2^ <h2 g6ff6<h ]<6hm <h .h <f^ f.jn<j. hb2 ].n’m h.g2 q.m al. ZfB``, .h^ .]]<l^6ha n< 7h.b6n’m f2a2h^, b2 jl2mm2^ l.h^<g e2sm, ^<qhf<.^2^ . gsmn2l6<Bm q.ff2n, .h^ \\2].g2 nb2 l6]b2mn `2f6h2 6h nb2 ^6a6n.f Bh6p2lm2. Kh`<lnBh.n2fs, al. ZfB`` 6hm6mn2^ <h \\26ha j.6^ <hfs 6h nBh., qb6]b ].Bm2^ g.d<l f6kB6^6ns jl<\\f2gm. Eh hB2m^.s, nb2 ]f.mm 2r]b.ha2^ nb26l “g.mn2lj62]2m.” b<\\<^s ]<Bf^ ^2]<^2 [2p<la’m d6h2.jjf2 \\.mb. ;p2h dl<`2mm<l [l6a<ls.h .^g6nn2^ 6n q.m Bh\\l2.e.\\f2. `6m.’m ].n mn<ls, b<q2p2l, q.m j2l`2]nfs ^2]<^.\\f2, .h^ nb2 qb<f2 ]f.mm f.Bab2^ m< b.l^ nb.n nb2 m2]Bl6ns aB.l^ ].g2 6h n< ]b2]e qb.n q.m a<6ha <h. ?h nb2 2h^, nb2 jl<`2mm<l ^2]f.l2^ 7h.b6n nb2 q6hh2l. g.g mn6ff .laB2^ nb.n b6m Bhl2.^.\\f2 h<hm2hm2 q.m g<l2 “m2]Bl2,” \\Bn 2p2ls<h2 .al22^ nb.n . ].n \\6ff6<h.6l2 q.m \\<nb `Bhh62l .h^ 2.m62l n< mb.l2 <p2l j6tt..\n"
     ]
    }
   ],
   "source": [
    "import string\n",
    "\n",
    "VOWELS = 'aeiouAEIOU'\n",
    "ALPHABET_LOWER = string.ascii_lowercase\n",
    "ALPHABET_UPPER = string.ascii_uppercase\n",
    "\n",
    "def encode_char(c):\n",
    "    if c.isalpha():\n",
    "        # Find the position of the letter in the alphabet (1–26)\n",
    "        if c.islower():\n",
    "            pos = ALPHABET_LOWER.index(c) + 1\n",
    "        else:\n",
    "            pos = ALPHABET_UPPER.index(c) + 1\n",
    "        \n",
    "        # Encode differently depending on vowel/consonant and case\n",
    "        if c in VOWELS:\n",
    "            if c.islower():\n",
    "                new_ascii = pos + 45\n",
    "            else:\n",
    "                new_ascii = pos + 54\n",
    "        else:  # consonant\n",
    "            if c.islower():\n",
    "                new_ascii = pos + 90   # <- changed from 64 to 90\n",
    "            else:\n",
    "                new_ascii = pos + 84\n",
    "        \n",
    "        return chr(new_ascii)\n",
    "    else:\n",
    "        # Keep spaces and punctuation as they are\n",
    "        return c\n",
    "\n",
    "def encode_text(text):\n",
    "    return ''.join(encode_char(c) for c in text)\n",
    "\n",
    "# --- Example usage ---\n",
    "text = \"Late one Friday night, Professor Grigoryan told his blockchain students that the best way to learn cryptography was not through dry equations but through mischief. He gave them an unusual assignment: “Hide a secret message in plain sight. If your classmate can decode it, they earn free pizza.” One student, Gevorg, took this far too seriously. Instead of a simple Caesar cipher, he invented what he proudly called the “Pineapple Hash of Destiny.” It worked like this: every vowel was replaced with a fruit, every consonant with a random number, and every space with the sound of a cat, written as cluck. When he tested it, even he could not read it back. Meanwhile, his friend Anahit decided to encode her story about a cat that accidentally mined one million coins on an old laptop. The cat’s name was Mr. Fluff, and according to Anahit’s legend, he pressed random keys, downloaded a mysterious wallet, and became the richest feline in the digital universe. Unfortunately, Mr. Fluff insisted on being paid only in tuna, which caused major liquidity problems. On Tuesday, the class exchanged their “masterpieces.” Nobody could decode Gevorg’s Pineapple Hash. Even Professor Grigoryan admitted it was unbreakable. Lisa’s cat story, however, was perfectly decodable, and the whole class laughed so hard that the security guard came in to check what was going on. In the end, the professor declared Anahit the winner. Sam still argued that his unreadable nonsense was more “secure,” but everyone agreed that a cat billionaire was both funnier and easier to share over pizza.\"\n",
    "encoded_text = encode_text(text)\n",
    "print(encoded_text)"
   ]
  },
  {
   "cell_type": "code",
   "execution_count": null,
   "id": "84d70c1d",
   "metadata": {},
   "outputs": [],
   "source": []
  }
 ],
 "metadata": {
  "kernelspec": {
   "display_name": "Python 3 (ipykernel)",
   "language": "python",
   "name": "python3"
  },
  "language_info": {
   "codemirror_mode": {
    "name": "ipython",
    "version": 3
   },
   "file_extension": ".py",
   "mimetype": "text/x-python",
   "name": "python",
   "nbconvert_exporter": "python",
   "pygments_lexer": "ipython3",
   "version": "3.11.5"
  }
 },
 "nbformat": 4,
 "nbformat_minor": 5
}
