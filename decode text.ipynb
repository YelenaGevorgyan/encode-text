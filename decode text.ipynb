{
 "cells": [
  {
   "cell_type": "code",
   "execution_count": 1,
   "id": "84d70c1d",
   "metadata": {},
   "outputs": [
    {
     "name": "stdout",
     "output_type": "stream",
     "text": [
      "Original == Decoded ? False\n",
      "Encoded preview : `.n2 <h2 Zl6^.s h6abn, dl<`2mm<l [l6a<ls.h n<f^ b6m \\f<]e]b.6h mnB^2hnm nb.n nb2 \\2mn q.s n< f2.lh ]lsjn<al.jbs q.m h<n nbl<Bab ^ls 2kB.n6<hm \\Bn nbl<Bab g6m]b62`. \\2 a.p2 nb2g .h BhBmB.f .mm6ahg2hn:  ...\n",
      "Decoded preview : fate one Friday night, jrofessor Grigoryan told his blockchain students that the best way to learn cryptography was not through dry equations but through mischiefa be gave them an unusual assignment:  ...\n"
     ]
    }
   ],
   "source": [
    "import string\n",
    "\n",
    "# Алфавиты\n",
    "ALPHABET_LOWER = string.ascii_lowercase\n",
    "ALPHABET_UPPER = string.ascii_uppercase\n",
    "\n",
    "# --- Функции кодирования ---\n",
    "def encode_char(c):\n",
    "    if c.isalpha():\n",
    "        if c.islower():\n",
    "            pos = ALPHABET_LOWER.index(c) + 1\n",
    "            if c in \"aeiou\":  # гласные\n",
    "                return chr(pos + 45)\n",
    "            else:             # согласные\n",
    "                return chr(pos + 90)\n",
    "        else:  # верхний регистр\n",
    "            pos = ALPHABET_UPPER.index(c) + 1\n",
    "            if c in \"AEIOU\":\n",
    "                return chr(pos + 54)\n",
    "            else:\n",
    "                return chr(pos + 84)\n",
    "    else:\n",
    "        return c  # пробелы, пунктуация и т.д. без изменений\n",
    "\n",
    "def encode_text(text):\n",
    "    return ''.join(encode_char(c) for c in text)\n",
    "\n",
    "\n",
    "# --- Функции раскодирования ---\n",
    "def decode_char(c):\n",
    "    ascii_val = ord(c)\n",
    "\n",
    "    # строчные гласные\n",
    "    for pos, letter in enumerate(ALPHABET_LOWER, 1):\n",
    "        if letter in \"aeiou\" and ascii_val == pos + 45:\n",
    "            return letter\n",
    "    # прописные гласные\n",
    "    for pos, letter in enumerate(ALPHABET_UPPER, 1):\n",
    "        if letter in \"AEIOU\" and ascii_val == pos + 54:\n",
    "            return letter\n",
    "    # строчные согласные\n",
    "    for pos, letter in enumerate(ALPHABET_LOWER, 1):\n",
    "        if letter not in \"aeiou\" and ascii_val == pos + 90:\n",
    "            return letter\n",
    "    # прописные согласные\n",
    "    for pos, letter in enumerate(ALPHABET_UPPER, 1):\n",
    "        if letter not in \"AEIOU\" and ascii_val == pos + 84:\n",
    "            return letter\n",
    "\n",
    "    return c  # если это не буква\n",
    "\n",
    "\n",
    "def decode_text(text):\n",
    "    return ''.join(decode_char(c) for c in text)\n",
    "\n",
    "\n",
    "# --- Основной тест ---\n",
    "text = \"\"\"Late one Friday night, Professor Grigoryan told his blockchain students that the best way to learn cryptography was not through dry equations but through mischief. He gave them an unusual assignment: “Hide a secret message in plain sight. If your classmate can decode it, they earn free pizza.” One student, Gevorg, took this far too seriously. Instead of a simple Caesar cipher, he invented what he proudly called the “Pineapple Hash of Destiny.” It worked like this: every vowel was replaced with a fruit, every consonant with a random number, and every space with the sound of a cat, written as cluck. When he tested it, even he could not read it back. Meanwhile, his friend Anahit decided to encode her story about a cat that accidentally mined one million coins on an old laptop. The cat’s name was Mr. Fluff, and according to Anahit’s legend, he pressed random keys, downloaded a mysterious wallet, and became the richest feline in the digital universe. Unfortunately, Mr. Fluff insisted on being paid only in tuna, which caused major liquidity problems. On Tuesday, the class exchanged their “masterpieces.” Nobody could decode Gevorg’s Pineapple Hash. Even Professor Grigoryan admitted it was unbreakable. Lisa’s cat story, however, was perfectly decodable, and the whole class laughed so hard that the security guard came in to check what was going on. In the end, the professor declared Anahit the winner. Sam still argued that his unreadable nonsense was more “secure,” but everyone agreed that a cat billionaire was both funnier and easier to share over pizza.\"\"\"\n",
    "\n",
    "encoded_text = encode_text(text)\n",
    "decoded_text = decode_text(encoded_text)\n",
    "\n",
    "print(\"Original == Decoded ?\", text == decoded_text)\n",
    "print(\"Encoded preview :\", encoded_text[:200], \"...\")\n",
    "print(\"Decoded preview :\", decoded_text[:200], \"...\")\n"
   ]
  },
  {
   "cell_type": "code",
   "execution_count": null,
   "id": "997af2c7",
   "metadata": {},
   "outputs": [],
   "source": []
  }
 ],
 "metadata": {
  "kernelspec": {
   "display_name": "Python 3 (ipykernel)",
   "language": "python",
   "name": "python3"
  },
  "language_info": {
   "codemirror_mode": {
    "name": "ipython",
    "version": 3
   },
   "file_extension": ".py",
   "mimetype": "text/x-python",
   "name": "python",
   "nbconvert_exporter": "python",
   "pygments_lexer": "ipython3",
   "version": "3.11.5"
  }
 },
 "nbformat": 4,
 "nbformat_minor": 5
}
